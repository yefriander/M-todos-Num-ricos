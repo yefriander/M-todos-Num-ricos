{
 "cells": [
  {
   "cell_type": "markdown",
   "id": "e7ecbe12",
   "metadata": {},
   "source": [
    "### Declaramos las variables "
   ]
  },
  {
   "cell_type": "code",
   "execution_count": 1,
   "id": "cbc1bfd0",
   "metadata": {},
   "outputs": [
    {
     "name": "stdout",
     "output_type": "stream",
     "text": [
      "El intervalo es dividido en 10.0 partes iguales.\n"
     ]
    }
   ],
   "source": [
    "h = 0.1 # Espaciamiento\n",
    "a = 0 # x_0 \n",
    "b = 1 # x_10\n",
    "N = (b-a)/h\n",
    "print(f\"El intervalo es dividido en {N} partes iguales.\")"
   ]
  },
  {
   "cell_type": "code",
   "execution_count": 3,
   "id": "35733cbb",
   "metadata": {},
   "outputs": [
    {
     "name": "stdout",
     "output_type": "stream",
     "text": [
      "[0.1, 0.2, 0.30000000000000004, 0.4, 0.5, 0.6000000000000001, 0.7000000000000001, 0.8, 0.9, 1.0]\n"
     ]
    }
   ],
   "source": [
    "Rh = [] # Conjunto discreto.\n",
    "N = int(N) # Convertir el valor de N a un entero.\n",
    "for i in range(N+1):\n",
    "    if (i==0):\n",
    "        continue\n",
    "    xi = a + i * h\n",
    "    Rh.append(xi)\n",
    "print(Rh)"
   ]
  },
  {
   "cell_type": "markdown",
   "id": "f4f958ea",
   "metadata": {},
   "source": [
    "### Desarrollamos el Método de Euler Explícito\n",
    "El **método implícito** es el siguiente $y_{i+1}=\\dfrac{1}{1+h}(y_0 + hx_1)$\n",
    "Se tiene como dato que $y_0=\\alpha$ entonces $y_0=1$ "
   ]
  },
  {
   "cell_type": "code",
   "execution_count": 5,
   "id": "e574ce14",
   "metadata": {},
   "outputs": [
    {
     "name": "stdout",
     "output_type": "stream",
     "text": [
      "[0.9181818181818182, 0.8528925619834711, 0.8026296018031556, 0.7660269107301414, 0.7418426461183104, 0.728947860107555, 0.7263162364614136, 0.7330147604194669, 0.7481952367449699, 0.7710865788590635]\n"
     ]
    }
   ],
   "source": [
    "y_aprox = []\n",
    "for i in range(N):\n",
    "    if(i==0):\n",
    "        y_i = (1/(1 + h)) * (1 + h*Rh[i])\n",
    "        y_aprox.append(y_i)\n",
    "    else:\n",
    "        y_i = (1/(1 + h)) * (y_aprox[i-1] + h*Rh[i])\n",
    "        y_aprox.append(y_i)\n",
    "print(y_aprox)"
   ]
  },
  {
   "cell_type": "markdown",
   "id": "46e85558",
   "metadata": {},
   "source": [
    "### Calculamos la solución exacta"
   ]
  },
  {
   "cell_type": "code",
   "execution_count": 6,
   "id": "a2cd09bf",
   "metadata": {},
   "outputs": [
    {
     "name": "stdout",
     "output_type": "stream",
     "text": [
      "[0.909674836071919, 0.8374615061559636, 0.7816364413634358, 0.7406400920712787, 0.7130613194252668, 0.6976232721880529, 0.693170607582819, 0.6986579282344432, 0.7131393194811982, 0.7357588823428847]\n"
     ]
    }
   ],
   "source": [
    "import math\n",
    "\n",
    "def funcion(x):\n",
    "    return x - 1 + 2 * math.exp(-x)\n",
    "\n",
    "sol_exacta = []\n",
    "\n",
    "for i in Rh:\n",
    "    sol = funcion(i)\n",
    "    sol_exacta.append(sol)\n",
    "print(sol_exacta)"
   ]
  },
  {
   "cell_type": "markdown",
   "id": "f62ce372",
   "metadata": {},
   "source": [
    "### Graficamos los resultados"
   ]
  },
  {
   "cell_type": "code",
   "execution_count": 8,
   "id": "34bbecb9",
   "metadata": {},
   "outputs": [
    {
     "data": {
      "image/png": "[encoded data removed]",
      "text/plain": [
       "<Figure size 432x288 with 1 Axes>"
      ]
     },
     "metadata": {
      "needs_background": "light"
     },
     "output_type": "display_data"
    }
   ],
   "source": [
    "import matplotlib.pyplot as plt\n",
    "\n",
    "plt.plot(Rh, y_aprox, \"bo-\", markersize=8, label=\"Aproximada\")\n",
    "plt.plot(Rh, sol_exacta, \"go-\", markersize=8, label=\"Exacta\")\n",
    "plt.title(\"Solución exacta y aproximada cuando h = 0.1\")\n",
    "plt.legend(loc=\"upper right\")\n",
    "plt.savefig(\"imagen_implicito_h_0_1.pdf\")\n",
    "plt.grid()\n",
    "plt.show()"
   ]
  },
  {
   "cell_type": "markdown",
   "id": "da3fd0ca",
   "metadata": {},
   "source": [
    "### Calculamos el error absoluto"
   ]
  },
  {
   "cell_type": "code",
   "execution_count": 9,
   "id": "773ea0a5",
   "metadata": {},
   "outputs": [
    {
     "name": "stdout",
     "output_type": "stream",
     "text": [
      "[0.008506982109899197, 0.015431055827507478, 0.02099316043971977, 0.02538681865886272, 0.028781326693043563, 0.0313245879195021, 0.033145628878594624, 0.03435683218502372, 0.03505591726377166, 0.03532769651617884]\n"
     ]
    }
   ],
   "source": [
    "E_abs = []\n",
    "\n",
    "for i in range(N):\n",
    "    s = abs(sol_exacta[i]-y_aprox[i])\n",
    "    E_abs.append(s)\n",
    "    \n",
    "print(E_abs)"
   ]
  },
  {
   "cell_type": "code",
   "execution_count": null,
   "id": "f464e635",
   "metadata": {},
   "outputs": [],
   "source": []
  }
 ],
 "metadata": {
  "kernelspec": {
   "display_name": "Python 3 (ipykernel)",
   "language": "python",
   "name": "python3"
  },
  "language_info": {
   "codemirror_mode": {
    "name": "ipython",
    "version": 3
   },
   "file_extension": ".py",
   "mimetype": "text/x-python",
   "name": "python",
   "nbconvert_exporter": "python",
   "pygments_lexer": "ipython3",
   "version": "3.9.7"
  }
 },
 "nbformat": 4,
 "nbformat_minor": 5
}

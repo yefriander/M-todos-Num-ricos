{
 "cells": [
  {
   "cell_type": "markdown",
   "id": "a8e91e01",
   "metadata": {},
   "source": [
    "### Declaramos las variables necesarias "
   ]
  },
  {
   "cell_type": "code",
   "execution_count": 30,
   "id": "fda5257e",
   "metadata": {},
   "outputs": [
    {
     "name": "stdout",
     "output_type": "stream",
     "text": [
      "El intervalo es dividido en 10.0 partes iguales.\n"
     ]
    }
   ],
   "source": [
    "h = 0.1 # Declaramos el espaciamiento.\n",
    "a = 0 \n",
    "b = 1\n",
    "N = (b-a)/h\n",
    "print(f\"El intervalo es dividido en {N} partes iguales.\")"
   ]
  },
  {
   "cell_type": "code",
   "execution_count": 31,
   "id": "9bb2d006",
   "metadata": {},
   "outputs": [
    {
     "name": "stdout",
     "output_type": "stream",
     "text": [
      "[0.1, 0.2, 0.30000000000000004, 0.4, 0.5, 0.6000000000000001, 0.7000000000000001, 0.8, 0.9, 1.0]\n"
     ]
    }
   ],
   "source": [
    "Rh = [] # Se declara un array para almacenar los puntos de discretización.\n",
    "N = int(N) # El intervalo se convierte a un número enter.\n",
    "for i in range(N+1):\n",
    "    if (i==0): # No se almacena el cero en el arry Rh.\n",
    "        continue # Así que realiza un salto y continua con la siguiente iteración.\n",
    "    xi = a + i * h # el xi es cada punto de discretización que se almacenará en Rh.\n",
    "    Rh.append(xi) # agregamos el punto xi al array Rh.\n",
    "print(Rh) # Se imprimen los valores que tiene el array Rh."
   ]
  },
  {
   "cell_type": "markdown",
   "id": "9088700f",
   "metadata": {},
   "source": [
    "### Desarrollamos el Método de Euler Explícito\n",
    "El **método explícito** es el siguiente $y_{i+1}=y_i+h(-y_i+x_i)$\n",
    "Se tiene como dato que $y_0=\\alpha$ entonces $y_0=1$"
   ]
  },
  {
   "cell_type": "code",
   "execution_count": 32,
   "id": "f15500f7",
   "metadata": {},
   "outputs": [
    {
     "name": "stdout",
     "output_type": "stream",
     "text": [
      "[0.9, 0.8200000000000001, 0.758, 0.7122, 0.68098, 0.662882, 0.6565938, 0.66093442, 0.674840978, 0.6973568802]\n"
     ]
    }
   ],
   "source": [
    "y_aprox = [] # Se declara un array para almacenar las aproximaciones.\n",
    "for i in range(N):\n",
    "    if(i==0): # Condicional, si i=0 entonces\n",
    "        y_i = 1 + h * (-1 + a) # realiza la siguiente función y el resultado\n",
    "        y_aprox.append(y_i) # Se almacena en el array y_aprox.\n",
    "    else:\n",
    "        y_i = y_aprox[i-1] + h * (-y_aprox[i-1] + Rh[i-1])\n",
    "        y_aprox.append(y_i)\n",
    "print(y_aprox)"
   ]
  },
  {
   "cell_type": "markdown",
   "id": "58677883",
   "metadata": {},
   "source": [
    "### Calculamos la solución exacta, para ello definimos la función."
   ]
  },
  {
   "cell_type": "code",
   "execution_count": 33,
   "id": "a2d5017d",
   "metadata": {},
   "outputs": [
    {
     "name": "stdout",
     "output_type": "stream",
     "text": [
      "[0.909674836071919, 0.8374615061559636, 0.7816364413634358, 0.7406400920712787, 0.7130613194252668, 0.6976232721880529, 0.693170607582819, 0.6986579282344432, 0.7131393194811982, 0.7357588823428847]\n"
     ]
    }
   ],
   "source": [
    "import math\n",
    "\n",
    "def funcion(x):\n",
    "    return x - 1 + 2 * math.exp(-x)\n",
    "\n",
    "sol_exacta = [] # Se declara un array para almacenar las soluciones exactas.\n",
    "\n",
    "for i in Rh: # Se declara el Rh ya que contiene los puntos de discretización.\n",
    "    sol = funcion(i)\n",
    "    sol_exacta.append(sol)\n",
    "print(sol_exacta)"
   ]
  },
  {
   "cell_type": "markdown",
   "id": "bc1bded9",
   "metadata": {},
   "source": [
    "### Graficamos las soluciones"
   ]
  },
  {
   "cell_type": "code",
   "execution_count": 34,
   "id": "1ac7ab0b",
   "metadata": {},
   "outputs": [
    {
     "data": {
      "image/png": "[encoded data removed]",
      "text/plain": [
       "<Figure size 432x288 with 1 Axes>"
      ]
     },
     "metadata": {
      "needs_background": "light"
     },
     "output_type": "display_data"
    }
   ],
   "source": [
    "import matplotlib.pyplot as plt\n",
    "\n",
    "plt.plot(Rh, y_aprox, \"bo-\", markersize=8, label=\"Aproximada\")\n",
    "plt.plot(Rh, sol_exacta, \"ro-\", markersize=8, label=\"Exacta\")\n",
    "plt.title(\"Solución exacta y aproximada cuando h = 0.1\")\n",
    "plt.legend(loc=\"upper right\")\n",
    "plt.savefig(\"imagen_h_0_1.pdf\")\n",
    "#plt.savefig(\"imagen_h_0_2.pdf\")\n",
    "plt.grid()\n",
    "plt.show()"
   ]
  },
  {
   "cell_type": "markdown",
   "id": "477636f6",
   "metadata": {},
   "source": [
    "### Calculamos el error absoluto"
   ]
  },
  {
   "cell_type": "code",
   "execution_count": 35,
   "id": "59a3daff",
   "metadata": {},
   "outputs": [
    {
     "name": "stdout",
     "output_type": "stream",
     "text": [
      "[0.00967483607191899, 0.017461506155963535, 0.02363644136343579, 0.028440092071278622, 0.03208131942526682, 0.034741272188052896, 0.036576807582819004, 0.03772350823444315, 0.03829834148119826, 0.038402002142884695]\n"
     ]
    }
   ],
   "source": [
    "E_abs = []\n",
    "\n",
    "for i in range(N):\n",
    "    s = abs(sol_exacta[i]-y_aprox[i])\n",
    "    E_abs.append(s)\n",
    "    \n",
    "print(E_abs)"
   ]
  },
  {
   "cell_type": "markdown",
   "id": "0ff8f4bd",
   "metadata": {},
   "source": [
    "### Creamos un dataFrame para luego crear una tabla con los resultados obtenidos"
   ]
  },
  {
   "cell_type": "code",
   "execution_count": 36,
   "id": "e071b32f",
   "metadata": {},
   "outputs": [
    {
     "name": "stdout",
     "output_type": "stream",
     "text": [
      "╒══════╤══════════════╤═══════════════╤═════════════╕\n",
      "│   Rh │   Sol. Aprox │   Sol. Exacta │   Error Abs │\n",
      "╞══════╪══════════════╪═══════════════╪═════════════╡\n",
      "│  0.1 │     0.9      │      0.909675 │  0.00967484 │\n",
      "├──────┼──────────────┼───────────────┼─────────────┤\n",
      "│  0.2 │     0.82     │      0.837462 │  0.0174615  │\n",
      "├──────┼──────────────┼───────────────┼─────────────┤\n",
      "│  0.3 │     0.758    │      0.781636 │  0.0236364  │\n",
      "├──────┼──────────────┼───────────────┼─────────────┤\n",
      "│  0.4 │     0.7122   │      0.74064  │  0.0284401  │\n",
      "├──────┼──────────────┼───────────────┼─────────────┤\n",
      "│  0.5 │     0.68098  │      0.713061 │  0.0320813  │\n",
      "├──────┼──────────────┼───────────────┼─────────────┤\n",
      "│  0.6 │     0.662882 │      0.697623 │  0.0347413  │\n",
      "├──────┼──────────────┼───────────────┼─────────────┤\n",
      "│  0.7 │     0.656594 │      0.693171 │  0.0365768  │\n",
      "├──────┼──────────────┼───────────────┼─────────────┤\n",
      "│  0.8 │     0.660934 │      0.698658 │  0.0377235  │\n",
      "├──────┼──────────────┼───────────────┼─────────────┤\n",
      "│  0.9 │     0.674841 │      0.713139 │  0.0382983  │\n",
      "├──────┼──────────────┼───────────────┼─────────────┤\n",
      "│  1   │     0.697357 │      0.735759 │  0.038402   │\n",
      "╘══════╧══════════════╧═══════════════╧═════════════╛\n"
     ]
    }
   ],
   "source": [
    "import pandas as pd\n",
    "from tabulate import tabulate\n",
    "\n",
    "datos = {\n",
    "    'Rh' : Rh,\n",
    "    'S. Aprox' : y_aprox,\n",
    "    'S. Exact' : sol_exacta,\n",
    "    'Error Abs' : E_abs\n",
    "}\n",
    "\n",
    "#df = pd.DataFrame(datos)\n",
    "#print(df)\n",
    "print(tabulate(datos, headers=[\"Rh\", \"Sol. Aprox\", \"Sol. Exacta\",\"Error Abs\"], tablefmt='fancy_grid',stralign='center'))"
   ]
  },
  {
   "cell_type": "code",
   "execution_count": null,
   "id": "099c139b",
   "metadata": {},
   "outputs": [],
   "source": []
  }
 ],
 "metadata": {
  "kernelspec": {
   "display_name": "Python 3 (ipykernel)",
   "language": "python",
   "name": "python3"
  },
  "language_info": {
   "codemirror_mode": {
    "name": "ipython",
    "version": 3
   },
   "file_extension": ".py",
   "mimetype": "text/x-python",
   "name": "python",
   "nbconvert_exporter": "python",
   "pygments_lexer": "ipython3",
   "version": "3.9.7"
  }
 },
 "nbformat": 4,
 "nbformat_minor": 5
}
